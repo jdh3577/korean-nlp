{
 "cells": [
  {
   "cell_type": "code",
   "execution_count": 27,
   "metadata": {
    "collapsed": true
   },
   "outputs": [],
   "source": [
    "# GPU selection\n",
    "import os\n",
    "os.environ[\"CUDA_DEVICE_ORDER\"]=\"PCI_BUS_ID\"   # see issue #152\n",
    "os.environ[\"CUDA_VISIBLE_DEVICES\"]=\"1\""
   ]
  },
  {
   "cell_type": "code",
   "execution_count": 28,
   "metadata": {
    "collapsed": true
   },
   "outputs": [],
   "source": [
    "import numpy as np\n",
    "np.random.seed(int(np.pi*10**5)) # Don't be too random on the test suit!"
   ]
  },
  {
   "cell_type": "code",
   "execution_count": 29,
   "metadata": {},
   "outputs": [],
   "source": [
    "from keras.models import Sequential, Model"
   ]
  },
  {
   "cell_type": "code",
   "execution_count": 30,
   "metadata": {
    "collapsed": true
   },
   "outputs": [],
   "source": [
    "from keras.layers import Dense, GRU, LSTM\n",
    "from keras.layers import Input, TimeDistributed, Embedding, RepeatVector, Lambda, Bidirectional\n",
    "from keras.layers import Flatten, Reshape, Permute, Activation\n",
    "from keras.layers import Dot, Concatenate, Multiply\n",
    "from keras.layers import merge\n",
    "from keras.callbacks import EarlyStopping\n",
    "from keras import backend as K"
   ]
  },
  {
   "cell_type": "markdown",
   "metadata": {},
   "source": [
    "## Preprocessing\n",
    "\n",
    "Process the text and find the vocabulary size for source input language + create one-hot vectors for all words in target language"
   ]
  },
  {
   "cell_type": "code",
   "execution_count": 31,
   "metadata": {
    "collapsed": true
   },
   "outputs": [],
   "source": [
    "src_word_chunker = lambda sent: list(sent)\n",
    "trg_word_chunker = lambda sent: list(sent)\n",
    "\n",
    "# depending on the preprocessing that we need we might need different word chunching functions\n",
    "#src_word_chunker = lambda sent: sent.split()\n",
    "#trg_word_chunker = lambda sent: sent.split()"
   ]
  },
  {
   "cell_type": "markdown",
   "metadata": {},
   "source": [
    "#### Read from synthetic tree translation"
   ]
  },
  {
   "cell_type": "code",
   "execution_count": 55,
   "metadata": {},
   "outputs": [
    {
     "name": "stdout",
     "output_type": "stream",
     "text": [
      "[[113, 7, 3, 49, 44, 50, 41, 100, 66, 113, 37], [95, 86, 39, 40, 69, 71, 21, 114, 29, 55], [113, 7, 104, 52, 86, 47, 37, 29, 17], [83, 20, 78, 73, 28, 50, 61, 94, 64, 37, 29, 17], [110, 87, 65, 88, 13, 51, 54, 5, 36, 50, 61, 94, 64, 37, 29, 17], [52, 14, 47, 37, 29, 17], [52, 28, 66, 113, 21, 12, 113, 7, 104, 69, 71, 37, 29, 17], [25, 70, 37, 29, 17], [52, 28, 50, 61, 94, 64, 37, 29, 17], [113, 7, 104, 52, 86, 47, 37, 29, 17], [110, 87, 65, 107, 47, 50, 61, 94, 64, 37, 29, 17], [48, 111, 50, 61, 94, 64, 37, 29, 17], [52, 28, 50, 61, 94, 64, 37, 29, 17], [52, 14, 33, 80, 2, 109, 8, 49, 31, 38, 112, 22, 107, 9, 11, 29, 55], [83, 20, 78, 73, 28, 113, 7, 16, 72, 47, 37, 29, 17], [52, 28, 50, 61, 94, 64, 37, 29, 17], [113, 7, 104, 52, 86, 47, 37, 29, 17], [95, 28, 16, 43, 53, 11, 29, 55], [52, 14, 63, 32, 60, 21, 72, 47, 37, 29, 17], [46, 68, 113, 7, 3, 94, 64, 37, 29, 55], [46, 68, 113, 7, 3, 50, 58, 105, 36, 80, 2, 109, 8, 49, 31, 66, 113, 37], [52, 14, 50, 61, 94, 64, 37, 29, 17], [52, 86, 38, 112, 22, 107, 9, 11, 29, 55], [38, 112, 35, 56, 77, 98, 107, 9, 103, 90, 71], [46, 97, 35, 28, 47, 37, 29, 55], [52, 28, 50, 61, 94, 64, 37, 29, 17], [83, 20, 78, 73, 28, 66, 113, 21, 12, 113, 7, 104, 69, 71, 37, 29, 17], [52, 14, 110, 87, 65, 24, 99, 52, 28, 66, 113, 21, 12, 33, 80, 2, 109, 8, 49, 31, 52, 86, 38, 112, 118, 11, 29, 17], [107, 47, 28, 66, 113, 27, 62, 74, 95, 14, 5], [52, 14, 63, 32, 60, 21, 72, 15, 47, 37, 29, 17], [113, 7, 104, 52, 86, 47, 37, 29, 17], [113, 7, 104, 52, 86, 38, 112, 21, 43, 53, 11, 29, 17], [52, 14, 50, 61, 94, 64, 37, 29, 17], [52, 28, 66, 113, 21, 12, 113, 7, 16, 72, 47, 37, 29, 17], [92, 77, 90, 71], [110, 87, 65, 34, 101, 51, 84, 85, 4, 19, 38, 112, 22, 107, 9, 11, 29, 55], [46, 97, 51, 108, 84, 85, 18, 116, 37, 29, 55], [51, 84, 85, 4, 19, 16, 72, 47, 37, 29, 17], [52, 28, 66, 113, 21, 12, 113, 7, 16, 72, 47, 37, 29, 17], [26, 106, 28, 92, 59, 89, 54, 5, 36, 50, 61, 94, 64, 37, 29, 17], [25, 70, 37, 29, 17], [33, 80, 2, 109, 8, 49, 31, 52, 86, 38, 112, 22, 107, 9, 11, 29, 55], [117, 33, 108, 72, 6, 23, 38, 112, 22, 107, 9, 11, 29, 55], [52, 28, 50, 61, 94, 64, 37, 29, 17], [52, 14, 63, 32, 60, 21, 72, 47, 37, 29, 17], [30, 79, 39, 40, 36, 5, 47, 21, 114, 29, 55], [46, 68, 113, 7, 3, 47, 21, 114, 29, 55], [52, 28, 50, 61, 94, 64, 37, 29, 17], [52, 14, 63, 32, 60, 21, 72, 47, 37, 29, 17], [52, 14, 50, 61, 94, 64, 37, 29, 17], [113, 7, 104, 52, 86, 47, 37, 29, 17], [46, 68, 113, 7, 3, 52, 28, 116, 81, 91, 45, 81, 50, 42, 66, 113, 37], [52, 14, 83, 20, 78, 73, 28, 26, 106, 28, 92, 59, 89, 54, 5, 36, 52, 28, 66, 113, 21, 12, 116, 81, 91, 45, 81, 50, 42, 52, 86, 38, 112, 118, 11, 29, 17], [26, 106, 28, 92, 59, 89, 54, 5, 36, 50, 61, 94, 64, 37, 29, 17], [83, 20, 78, 73, 28, 113, 7, 16, 72, 47, 37, 29, 17], [71, 76, 21, 13, 52, 14, 52, 28, 93, 72, 35, 48, 111, 28, 110, 87, 65, 24, 99, 66, 113, 21, 12, 115, 46, 75, 10, 35, 28, 52, 86, 38, 112, 67, 96, 21, 82, 11, 29, 17], [110, 87, 65, 102, 108, 113, 7, 16, 72, 47, 37, 29, 17], [], []]\n"
     ]
    }
   ],
   "source": [
    "from konlpy.tag import Twitter\n",
    "mecab = Twitter()\n",
    "\n",
    "def get_normalized_data(sentence):\n",
    "    original_sentence = mecab.pos(sentence)\n",
    "    inputData = []\n",
    "    for w, t in original_sentence:\n",
    "        if t in ['Number']:\n",
    "            w = '0'\n",
    "        if t not in ['Punctuation']:\n",
    "            inputData.append(w)\n",
    "    return ''.join(inputData)\n",
    "\n",
    "def get_training_data(sentence):\n",
    "    original_sentence = mecab.pos(sentence)\n",
    "    inputData = []\n",
    "    for w, t in original_sentence:\n",
    "        if t in ['Number']:\n",
    "            w = '0'\n",
    "        if t not in ['Josa']:\n",
    "            inputData.append(w)\n",
    "    return ''.join(inputData)\n",
    "\n",
    "# input_data = []\n",
    "# for i in text_data:\n",
    "#     input_data.append(get_training_data(i))\n",
    "\n",
    "text_read_input =[]\n",
    "f = open(\"./text2.txt\", 'r', encoding='utf-8')\n",
    "while True:\n",
    "    line = f.readline()\n",
    "    if line == '\\n':\n",
    "        del line\n",
    "    else:\n",
    "        text_read_input.append(line)\n",
    "        if not line: break\n",
    "f.close()\n",
    "\n",
    "text_read_input_data = []\n",
    "for i in text_read_input:\n",
    "    text_read_input_data.append(get_normalized_data(i))\n",
    "\n",
    "input_data = []\n",
    "for i in text_read_input_data:\n",
    "    input_data.append(get_training_data(i))\n",
    "\n",
    "# input_data = [' '.join(mecab.nouns(text_data)) for text_data in text_data]\n",
    "# train_data = [[x] + [y] for x,y in zip(input_data, text_data)]\n",
    "# train_data = [[x] + [y] for x,y in zip(input_data, text_read_input_data)]\n",
    "\n",
    "char_array = []\n",
    "all_char = ''\n",
    "for text in text_read_input_data:\n",
    "    all_char = all_char + ''.join(text)\n",
    "\n",
    "num_dic = {n: i for i, n in enumerate(all_char)}\n",
    "char_array = ['<s>'] + list(set(num_dic))\n",
    "\n",
    "\n",
    "source, target = input_data, text_read_input_data\n",
    "# src_vocab, trg_vocab = set({}), set({})\n",
    "src_max_len = 1\n",
    "trg_max_len = 1\n",
    "# with open('novel_1.txt', 'r', encoding='utf-8') as lines:\n",
    "#     for line in lines:\n",
    "# #         src_sent_raw, trg_sent_raw = line.strip()\n",
    "\n",
    "# #         src_sent = src_word_chunker(src_sent_raw)\n",
    "# #         trg_sent = trg_word_chunker(trg_sent_raw)\n",
    "        \n",
    "#         # add to the list (chunked)\n",
    "#         source.append(src_sent)\n",
    "#         target.append(trg_sent)\n",
    "        \n",
    "#         # update vocabulary with new words\n",
    "#         src_vocab.update(src_sent)\n",
    "#         trg_vocab.update(trg_sent)\n",
    "        \n",
    "#         src_max_len   = src_max_len if src_max_len > len(src_sent) else len(src_sent)\n",
    "#         trg_max_len   = trg_max_len if trg_max_len > len(src_sent) else len(src_sent)\n",
    "\n",
    "src_max_len = max(len(s) for s in source)\n",
    "trg_max_len = max(len(s) for s in target)\n",
    "        \n",
    "# the first words is the padding sign:\n",
    "# src_vocab = ['<s>'] + list(src_vocab)\n",
    "# trg_vocab = ['<s>'] + list(trg_vocab)\n",
    "\n",
    "# src_vocab_size = len(src_vocab)\n",
    "# trg_vocab_size = len(trg_vocab)\n",
    "\n",
    "# convert words to word_id \n",
    "# source_sents = [ \n",
    "#     [src_vocab.index(w) for w in sent]\n",
    "#     for sent in source\n",
    "# ]\n",
    "\n",
    "# target_sents = [ \n",
    "#     [trg_vocab.index(w) for w in sent]\n",
    "#     for sent in target\n",
    "# ]\n",
    "\n",
    "source_sents = [ \n",
    "    [char_array.index(w) for w in sent]\n",
    "    for sent in source\n",
    "]\n",
    "\n",
    "target_sents = [ \n",
    "    [char_array.index(w) for w in sent]\n",
    "    for sent in target\n",
    "]\n",
    "print(source_sents)"
   ]
  },
  {
   "cell_type": "markdown",
   "metadata": {},
   "source": [
    "\n",
    "\n",
    "\n",
    "#### General preprocessing"
   ]
  },
  {
   "cell_type": "code",
   "execution_count": 56,
   "metadata": {},
   "outputs": [
    {
     "name": "stdout",
     "output_type": "stream",
     "text": [
      "[[ 0  0  0 ..., 29 55  0]\n",
      " [ 0  0  0 ..., 29 55  0]\n",
      " [ 0  0  0 ..., 29 17  0]\n",
      " ..., \n",
      " [ 0  0  0 ..., 29 17  0]\n",
      " [ 0  0  0 ...,  0  0  0]\n",
      " [ 0  0  0 ...,  0  0  0]]\n",
      "[[  0   0   0 ...,  66 113  37]\n",
      " [  0   0   0 ..., 114  29  55]\n",
      " [  0   0   0 ...,  37  29  17]\n",
      " ..., \n",
      " [  0   0   0 ...,  37  29  17]\n",
      " [  0   0   0 ...,   0   0   0]\n",
      " [  0   0   0 ...,   0   0   0]]\n"
     ]
    }
   ],
   "source": [
    "# fixed length of source and target inputs after padding\n",
    "T_x = src_max_len\n",
    "T_y = trg_max_len + 1\n",
    "\n",
    "from keras.preprocessing import sequence\n",
    "\n",
    "# padded sentences\n",
    "# https://keras.io/preprocessing/sequence/\n",
    "source_pp = sequence.pad_sequences(source_sents, maxlen=T_x)\n",
    "target_pp = sequence.pad_sequences(sequence.pad_sequences(target_sents, maxlen=T_y-1), maxlen=T_y)\n",
    "trg_end_padding = np.pad(target_pp[:,1:], [(0,0), (0,1)], 'constant', constant_values=0)\n",
    "print(trg_end_padding)\n",
    "print(source_pp)"
   ]
  },
  {
   "cell_type": "code",
   "execution_count": 57,
   "metadata": {},
   "outputs": [
    {
     "name": "stdout",
     "output_type": "stream",
     "text": [
      "vocab size: 119\n",
      "source shape: (59, 40)\n"
     ]
    }
   ],
   "source": [
    "# print(\"source vocab size:\", src_vocab_size)\n",
    "# print(\"target vocab size:\", trg_vocab_size)\n",
    "\n",
    "# print('source shape:', source_pp.shape)\n",
    "# print('target shape:', target_pp.shape)\n",
    "src_vocab_size = len(char_array)\n",
    "trg_vocab_size = len(char_array)\n",
    "print(\"vocab size:\", src_vocab_size)\n",
    "\n",
    "print('source shape:', source_pp.shape)"
   ]
  },
  {
   "cell_type": "markdown",
   "metadata": {},
   "source": [
    "## Models"
   ]
  },
  {
   "cell_type": "markdown",
   "metadata": {},
   "source": [
    "#### Usefull functions"
   ]
  },
  {
   "cell_type": "code",
   "execution_count": 35,
   "metadata": {
    "collapsed": true
   },
   "outputs": [],
   "source": [
    "def one_hot_initializer(shape, dtype=None):\n",
    "    \"\"\"Keras friendly initialization for one-hot encodedings as embedings\"\"\"\n",
    "    output = K.eye(shape[0], dtype=dtype)\n",
    "    output = K.concatenate([K.zeros_like(output[:1,:]), output[1:,:]], 0)\n",
    "    output = K.concatenate([K.zeros_like(output[:,:1]), output[:,1:]], 1)\n",
    "    return output\n",
    "\n",
    "def sequential_layer_composition(input_tensor, layers):\n",
    "    \"\"\"This function takes a list of layers similar to Sequential but it is designed to work for Model in Keras\"\"\"\n",
    "    if len(layers) > 1:\n",
    "        return sequential_layer_composition(layers[0](input_tensor), layers[1:])\n",
    "    else:\n",
    "        return layers[0](input_tensor)\n"
   ]
  },
  {
   "cell_type": "markdown",
   "metadata": {},
   "source": [
    "#### Encoder"
   ]
  },
  {
   "cell_type": "code",
   "execution_count": 36,
   "metadata": {
    "collapsed": true
   },
   "outputs": [],
   "source": [
    "encoder_unit_size = 32\n",
    "encoder_embedding_size = 8\n",
    "#encoder_embedding_size = src_vocab_size"
   ]
  },
  {
   "cell_type": "code",
   "execution_count": 37,
   "metadata": {
    "collapsed": true
   },
   "outputs": [],
   "source": [
    "# the length of source and target inputs can be different but I chose the same max_len=10\n",
    "src_input = Input(shape=(T_x,))\n",
    "trg_input = Input(shape=(T_y,)) # +1 for initial padding"
   ]
  },
  {
   "cell_type": "code",
   "execution_count": 38,
   "metadata": {
    "collapsed": true
   },
   "outputs": [],
   "source": [
    "source_embeddings = Embedding(\n",
    "    src_vocab_size,\n",
    "    encoder_embedding_size,\n",
    "    input_shape=(T_x,),\n",
    "    #embeddings_initializer=one_hot_initializer,\n",
    "    #trainable=False,\n",
    ")\n",
    "\n",
    "encoder_model = Sequential([\n",
    "    source_embeddings, \n",
    "    Bidirectional(LSTM(int(encoder_unit_size/2), return_sequences=True)),\n",
    "    Bidirectional(LSTM(int(encoder_unit_size/2), return_sequences=True)),\n",
    "])"
   ]
  },
  {
   "cell_type": "code",
   "execution_count": 39,
   "metadata": {},
   "outputs": [
    {
     "name": "stdout",
     "output_type": "stream",
     "text": [
      "_________________________________________________________________\n",
      "Layer (type)                 Output Shape              Param #   \n",
      "=================================================================\n",
      "embedding_3 (Embedding)      (None, 40, 8)             952       \n",
      "_________________________________________________________________\n",
      "bidirectional_3 (Bidirection (None, 40, 32)            3200      \n",
      "_________________________________________________________________\n",
      "bidirectional_4 (Bidirection (None, 40, 32)            6272      \n",
      "=================================================================\n",
      "Total params: 10,424\n",
      "Trainable params: 10,424\n",
      "Non-trainable params: 0\n",
      "_________________________________________________________________\n"
     ]
    }
   ],
   "source": [
    "encoder_model.summary()"
   ]
  },
  {
   "cell_type": "code",
   "execution_count": 40,
   "metadata": {
    "collapsed": true
   },
   "outputs": [],
   "source": [
    "encoder_output = encoder_model(src_input)\n"
   ]
  },
  {
   "cell_type": "markdown",
   "metadata": {},
   "source": [
    "### Decoder + Attention"
   ]
  },
  {
   "cell_type": "code",
   "execution_count": 41,
   "metadata": {
    "collapsed": true
   },
   "outputs": [],
   "source": [
    "decoder_unit_size = 32\n",
    "decoder_embedding_size = 8\n",
    "#decoder_embedding_size = trg_vocab_size"
   ]
  },
  {
   "cell_type": "markdown",
   "metadata": {},
   "source": [
    "#### Attention Model "
   ]
  },
  {
   "cell_type": "code",
   "execution_count": 42,
   "metadata": {
    "collapsed": true
   },
   "outputs": [],
   "source": [
    "# Understanding the following code require both understanding the desgin, some math behind it, and Keras tricks.\n",
    "m = T_x # source lenth\n",
    "n = T_y # target lenth\n",
    "d1 = encoder_unit_size\n",
    "d2 = decoder_unit_size\n",
    "\n",
    "# concatenate all H = (h_i) to all S = (s_j) ===> H_S = [s_(j-1) h_i] (S lag one phase behind)\n",
    "S          = Input((n, d2,))\n",
    "S_shift    = Lambda(lambda x: K.concatenate([K.zeros_like(K.expand_dims(x[:,0], 1)), x[:,:-1]], 1))(S)\n",
    "S_flat     = Flatten()(S_shift)\n",
    "S_flat_rep = RepeatVector(m)(S_flat)\n",
    "S_rep_n    = Reshape((m, n, d2))(S_flat_rep)\n",
    "# (m, n, d2,)\n",
    "\n",
    "H            = Input((m, d1,))\n",
    "H_flat       = Flatten()(H)\n",
    "H_flat_rep   = RepeatVector(n)(H_flat)\n",
    "H_flat_rep_  = Reshape((n, m, d1))(H_flat_rep)\n",
    "H_rep_m      = Permute((2,1,3))(H_flat_rep_) \n",
    "# (m, n, d1,)\n",
    "\n",
    "# concatenate everything with everything:\n",
    "S_H_     = Concatenate(-1)([S_rep_n, H_rep_m]) \n",
    "# (m, n, d1+d2)\n",
    "S_H_flat = Flatten()(S_H_)\n",
    "S_H      = Reshape((m*n, (d1+d2)))(S_H_flat) \n",
    "# (m*n, (d1+d2),)\n",
    "\n",
    "# make the e_ji\n",
    "E_T_1 = TimeDistributed(Dense(d1+d2, activation='tanh'))(S_H)\n",
    "E_T_  = TimeDistributed(Dense(1, activation='linear'))(E_T_1)\n",
    "E_T   = Reshape((m, n))(E_T_) \n",
    "E     = Permute((2,1))(E_T) # E = {E_j} = {{ e_{ji} }} \n",
    "# (n, m,)\n",
    "\n",
    "# the alignemtns\n",
    "alpha = TimeDistributed(Activation('softmax'))(E) # alpha_j = softmax(E_j}\n",
    "# (n, m,)\n",
    "\n",
    "C     = Dot((2,1))([alpha, H])\n",
    "# (n, d1,)\n",
    "\n",
    "attention_model = Model([S, H], C)\n"
   ]
  },
  {
   "cell_type": "markdown",
   "metadata": {},
   "source": [
    "#### Decoder layers"
   ]
  },
  {
   "cell_type": "code",
   "execution_count": 43,
   "metadata": {
    "collapsed": true
   },
   "outputs": [],
   "source": [
    "target_embeddings = Embedding(\n",
    "    trg_vocab_size,\n",
    "    decoder_embedding_size,\n",
    "    input_shape=(T_y,),\n",
    "    #embeddings_initializer=one_hot_initializer,\n",
    "    #trainable=False,\n",
    ")\n",
    "decoder_rnn = LSTM(decoder_unit_size, return_sequences=True, input_shape=(T_y, decoder_embedding_size+encoder_unit_size))\n",
    "\n",
    "decoder_model = Model(\n",
    "    [src_input, trg_input],\n",
    "    sequential_layer_composition(trg_input, [\n",
    "        target_embeddings, \n",
    "        decoder_rnn, \n",
    "        lambda S: Concatenate(2)([S, attention_model([S, encoder_output])]),\n",
    "        TimeDistributed(Dense(trg_vocab_size, activation='softmax')),\n",
    "    ])\n",
    ")\n",
    "\n",
    "alignments_model = Model(\n",
    "    [src_input, trg_input],\n",
    "    sequential_layer_composition(trg_input, [\n",
    "        target_embeddings,\n",
    "        decoder_rnn, \n",
    "        lambda x: Model([S, H], alpha)([x, encoder_output]),\n",
    "    ])\n",
    ")"
   ]
  },
  {
   "cell_type": "markdown",
   "metadata": {},
   "source": [
    "#### Decoder summary"
   ]
  },
  {
   "cell_type": "code",
   "execution_count": 44,
   "metadata": {},
   "outputs": [
    {
     "name": "stdout",
     "output_type": "stream",
     "text": [
      "____________________________________________________________________________________________________\n",
      "Layer (type)                     Output Shape          Param #     Connected to                     \n",
      "====================================================================================================\n",
      "input_6 (InputLayer)             (None, 45)            0                                            \n",
      "____________________________________________________________________________________________________\n",
      "embedding_4 (Embedding)          (None, 45, 8)         952         input_6[0][0]                    \n",
      "____________________________________________________________________________________________________\n",
      "input_5 (InputLayer)             (None, 40)            0                                            \n",
      "____________________________________________________________________________________________________\n",
      "lstm_6 (LSTM)                    (None, 45, 32)        5248        embedding_4[0][0]                \n",
      "____________________________________________________________________________________________________\n",
      "sequential_2 (Sequential)        (None, 40, 32)        10424       input_5[0][0]                    \n",
      "____________________________________________________________________________________________________\n",
      "model_6 (Model)                  (None, 45, 32)        4225        lstm_6[0][0]                     \n",
      "                                                                   sequential_2[1][0]               \n",
      "____________________________________________________________________________________________________\n",
      "concatenate_4 (Concatenate)      (None, 45, 64)        0           lstm_6[0][0]                     \n",
      "                                                                   model_6[1][0]                    \n",
      "____________________________________________________________________________________________________\n",
      "time_distributed_8 (TimeDistribu (None, 45, 119)       7735        concatenate_4[0][0]              \n",
      "====================================================================================================\n",
      "Total params: 28,584\n",
      "Trainable params: 28,584\n",
      "Non-trainable params: 0\n",
      "____________________________________________________________________________________________________\n"
     ]
    }
   ],
   "source": [
    "decoder_model.summary()"
   ]
  },
  {
   "cell_type": "markdown",
   "metadata": {},
   "source": [
    "### Finishing structure"
   ]
  },
  {
   "cell_type": "code",
   "execution_count": 45,
   "metadata": {
    "collapsed": true
   },
   "outputs": [],
   "source": [
    "# input of the encoder-decoder model is a list of two inputs: source, target\n",
    "encoder_decoder = Model([src_input, trg_input], decoder_model([src_input, trg_input]))"
   ]
  },
  {
   "cell_type": "code",
   "execution_count": 46,
   "metadata": {
    "collapsed": true
   },
   "outputs": [],
   "source": [
    "encoder_decoder.compile('adam', 'categorical_crossentropy')"
   ]
  },
  {
   "cell_type": "code",
   "execution_count": 47,
   "metadata": {},
   "outputs": [
    {
     "name": "stdout",
     "output_type": "stream",
     "text": [
      "____________________________________________________________________________________________________\n",
      "Layer (type)                     Output Shape          Param #     Connected to                     \n",
      "====================================================================================================\n",
      "input_5 (InputLayer)             (None, 40)            0                                            \n",
      "____________________________________________________________________________________________________\n",
      "input_6 (InputLayer)             (None, 45)            0                                            \n",
      "____________________________________________________________________________________________________\n",
      "model_7 (Model)                  (None, 45, 119)       28584       input_5[0][0]                    \n",
      "                                                                   input_6[0][0]                    \n",
      "====================================================================================================\n",
      "Total params: 28,584\n",
      "Trainable params: 28,584\n",
      "Non-trainable params: 0\n",
      "____________________________________________________________________________________________________\n"
     ]
    }
   ],
   "source": [
    "encoder_decoder.summary()"
   ]
  },
  {
   "cell_type": "markdown",
   "metadata": {},
   "source": [
    "## Training"
   ]
  },
  {
   "cell_type": "code",
   "execution_count": 48,
   "metadata": {
    "scrolled": false
   },
   "outputs": [
    {
     "name": "stdout",
     "output_type": "stream",
     "text": [
      "Train on 47 samples, validate on 12 samples\n",
      "Epoch 1/1000\n",
      "47/47 [==============================] - 4s - loss: 4.7681 - val_loss: 4.7510\n",
      "Epoch 2/1000\n",
      "47/47 [==============================] - 0s - loss: 4.7380 - val_loss: 4.7215\n",
      "Epoch 3/1000\n",
      "47/47 [==============================] - 0s - loss: 4.7025 - val_loss: 4.6851\n",
      "Epoch 4/1000\n",
      "47/47 [==============================] - 0s - loss: 4.6591 - val_loss: 4.6373\n",
      "Epoch 5/1000\n",
      "47/47 [==============================] - 0s - loss: 4.5995 - val_loss: 4.5719\n",
      "Epoch 6/1000\n",
      "47/47 [==============================] - 0s - loss: 4.5182 - val_loss: 4.4798\n",
      "Epoch 7/1000\n",
      "47/47 [==============================] - 0s - loss: 4.4022 - val_loss: 4.3458\n",
      "Epoch 8/1000\n",
      "47/47 [==============================] - 0s - loss: 4.2317 - val_loss: 4.1468\n",
      "Epoch 9/1000\n",
      "47/47 [==============================] - 0s - loss: 3.9732 - val_loss: 3.8491\n",
      "Epoch 10/1000\n",
      "47/47 [==============================] - 0s - loss: 3.6046 - val_loss: 3.4201\n",
      "Epoch 11/1000\n",
      "47/47 [==============================] - 0s - loss: 3.0995 - val_loss: 2.9294\n",
      "Epoch 12/1000\n",
      "47/47 [==============================] - 0s - loss: 2.5862 - val_loss: 2.5852\n",
      "Epoch 13/1000\n",
      "47/47 [==============================] - 0s - loss: 2.2560 - val_loss: 2.4643\n",
      "Epoch 14/1000\n",
      "47/47 [==============================] - 0s - loss: 2.1212 - val_loss: 2.4534\n",
      "Epoch 15/1000\n",
      "47/47 [==============================] - 0s - loss: 2.0691 - val_loss: 2.4557\n",
      "Epoch 16/1000\n",
      "47/47 [==============================] - 0s - loss: 2.0387 - val_loss: 2.4433\n",
      "Epoch 17/1000\n",
      "47/47 [==============================] - 0s - loss: 2.0052 - val_loss: 2.4164\n",
      "Epoch 18/1000\n",
      "47/47 [==============================] - 0s - loss: 1.9680 - val_loss: 2.3810\n",
      "Epoch 19/1000\n",
      "47/47 [==============================] - 0s - loss: 1.9333 - val_loss: 2.3452\n",
      "Epoch 20/1000\n",
      "47/47 [==============================] - 0s - loss: 1.9025 - val_loss: 2.3172\n",
      "Epoch 21/1000\n",
      "47/47 [==============================] - 0s - loss: 1.8819 - val_loss: 2.2966\n",
      "Epoch 22/1000\n",
      "47/47 [==============================] - 0s - loss: 1.8689 - val_loss: 2.2830\n",
      "Epoch 23/1000\n",
      "47/47 [==============================] - 0s - loss: 1.8557 - val_loss: 2.2737\n",
      "Epoch 24/1000\n",
      "47/47 [==============================] - 0s - loss: 1.8451 - val_loss: 2.2670\n",
      "Epoch 25/1000\n",
      "47/47 [==============================] - 0s - loss: 1.8344 - val_loss: 2.2624\n",
      "Epoch 26/1000\n",
      "47/47 [==============================] - 0s - loss: 1.8237 - val_loss: 2.2594\n",
      "Epoch 27/1000\n",
      "47/47 [==============================] - 0s - loss: 1.8146 - val_loss: 2.2577\n",
      "Epoch 28/1000\n",
      "47/47 [==============================] - 0s - loss: 1.8063 - val_loss: 2.2562\n",
      "Epoch 29/1000\n",
      "47/47 [==============================] - 0s - loss: 1.7990 - val_loss: 2.2545\n",
      "Epoch 30/1000\n",
      "47/47 [==============================] - 0s - loss: 1.7920 - val_loss: 2.2505\n",
      "Epoch 31/1000\n",
      "47/47 [==============================] - 0s - loss: 1.7852 - val_loss: 2.2448\n",
      "Epoch 32/1000\n",
      "47/47 [==============================] - 0s - loss: 1.7781 - val_loss: 2.2378\n",
      "Epoch 33/1000\n",
      "47/47 [==============================] - 0s - loss: 1.7707 - val_loss: 2.2314\n",
      "Epoch 34/1000\n",
      "47/47 [==============================] - 0s - loss: 1.7634 - val_loss: 2.2238\n",
      "Epoch 35/1000\n",
      "47/47 [==============================] - 0s - loss: 1.7553 - val_loss: 2.2145\n",
      "Epoch 36/1000\n",
      "47/47 [==============================] - 0s - loss: 1.7452 - val_loss: 2.2042\n",
      "Epoch 37/1000\n",
      "47/47 [==============================] - 0s - loss: 1.7336 - val_loss: 2.1921\n",
      "Epoch 38/1000\n",
      "47/47 [==============================] - 0s - loss: 1.7222 - val_loss: 2.1749\n",
      "Epoch 39/1000\n",
      "47/47 [==============================] - 0s - loss: 1.7075 - val_loss: 2.1592\n",
      "Epoch 40/1000\n",
      "47/47 [==============================] - 0s - loss: 1.6936 - val_loss: 2.1412\n",
      "Epoch 41/1000\n",
      "47/47 [==============================] - 0s - loss: 1.6785 - val_loss: 2.1314\n",
      "Epoch 42/1000\n",
      "47/47 [==============================] - 0s - loss: 1.6650 - val_loss: 2.1146\n",
      "Epoch 43/1000\n",
      "47/47 [==============================] - 0s - loss: 1.6493 - val_loss: 2.1026\n",
      "Epoch 44/1000\n",
      "47/47 [==============================] - 0s - loss: 1.6369 - val_loss: 2.0898\n",
      "Epoch 45/1000\n",
      "47/47 [==============================] - 0s - loss: 1.6266 - val_loss: 2.0882\n",
      "Epoch 46/1000\n",
      "47/47 [==============================] - 0s - loss: 1.6178 - val_loss: 2.0666\n",
      "Epoch 47/1000\n",
      "47/47 [==============================] - 0s - loss: 1.6054 - val_loss: 2.0539\n",
      "Epoch 48/1000\n",
      "47/47 [==============================] - 0s - loss: 1.5946 - val_loss: 2.0527\n",
      "Epoch 49/1000\n",
      "47/47 [==============================] - 0s - loss: 1.5846 - val_loss: 2.0366\n",
      "Epoch 50/1000\n",
      "47/47 [==============================] - 0s - loss: 1.5822 - val_loss: 2.0314\n",
      "Epoch 51/1000\n",
      "47/47 [==============================] - 0s - loss: 1.5670 - val_loss: 2.0121\n",
      "Epoch 52/1000\n",
      "47/47 [==============================] - 0s - loss: 1.5541 - val_loss: 2.0081\n",
      "Epoch 53/1000\n",
      "47/47 [==============================] - 0s - loss: 1.5459 - val_loss: 1.9881\n",
      "Epoch 54/1000\n",
      "47/47 [==============================] - 0s - loss: 1.5303 - val_loss: 1.9805\n",
      "Epoch 55/1000\n",
      "47/47 [==============================] - 0s - loss: 1.5189 - val_loss: 1.9605\n",
      "Epoch 56/1000\n",
      "47/47 [==============================] - 0s - loss: 1.5071 - val_loss: 1.9519\n",
      "Epoch 57/1000\n",
      "47/47 [==============================] - 0s - loss: 1.4946 - val_loss: 1.9342\n",
      "Epoch 58/1000\n",
      "47/47 [==============================] - 0s - loss: 1.4813 - val_loss: 1.9258\n",
      "Epoch 59/1000\n",
      "47/47 [==============================] - 0s - loss: 1.4672 - val_loss: 1.9086\n",
      "Epoch 60/1000\n",
      "47/47 [==============================] - 0s - loss: 1.4567 - val_loss: 1.8971\n",
      "Epoch 61/1000\n",
      "47/47 [==============================] - 0s - loss: 1.4433 - val_loss: 1.8854\n",
      "Epoch 62/1000\n",
      "47/47 [==============================] - 0s - loss: 1.4354 - val_loss: 1.8806\n",
      "Epoch 63/1000\n",
      "47/47 [==============================] - 0s - loss: 1.4194 - val_loss: 1.8669\n",
      "Epoch 64/1000\n",
      "47/47 [==============================] - 0s - loss: 1.4083 - val_loss: 1.8681\n",
      "Epoch 65/1000\n",
      "47/47 [==============================] - 0s - loss: 1.4046 - val_loss: 1.8503\n",
      "Epoch 66/1000\n",
      "47/47 [==============================] - 0s - loss: 1.3920 - val_loss: 1.8485\n",
      "Epoch 67/1000\n",
      "47/47 [==============================] - 0s - loss: 1.3883 - val_loss: 1.8401\n",
      "Epoch 68/1000\n",
      "47/47 [==============================] - 0s - loss: 1.3762 - val_loss: 1.8309\n",
      "Epoch 69/1000\n",
      "47/47 [==============================] - 0s - loss: 1.3695 - val_loss: 1.8402\n",
      "Epoch 70/1000\n",
      "47/47 [==============================] - 0s - loss: 1.3720 - val_loss: 1.8247\n",
      "Epoch 71/1000\n",
      "47/47 [==============================] - 0s - loss: 1.3628 - val_loss: 1.8316\n",
      "Epoch 72/1000\n",
      "47/47 [==============================] - 0s - loss: 1.3566 - val_loss: 1.8114\n",
      "Epoch 73/1000\n",
      "47/47 [==============================] - 0s - loss: 1.3501 - val_loss: 1.8153\n",
      "Epoch 74/1000\n",
      "47/47 [==============================] - 0s - loss: 1.3435 - val_loss: 1.8000\n",
      "Epoch 75/1000\n",
      "47/47 [==============================] - 0s - loss: 1.3378 - val_loss: 1.7965\n",
      "Epoch 76/1000\n",
      "47/47 [==============================] - 0s - loss: 1.3281 - val_loss: 1.7895\n",
      "Epoch 77/1000\n",
      "47/47 [==============================] - 0s - loss: 1.3214 - val_loss: 1.7840\n",
      "Epoch 78/1000\n",
      "47/47 [==============================] - 0s - loss: 1.3175 - val_loss: 1.7818\n",
      "Epoch 79/1000\n",
      "47/47 [==============================] - 0s - loss: 1.3106 - val_loss: 1.7753\n",
      "Epoch 80/1000\n",
      "47/47 [==============================] - 0s - loss: 1.3020 - val_loss: 1.7659\n",
      "Epoch 81/1000\n",
      "47/47 [==============================] - 0s - loss: 1.2952 - val_loss: 1.7691\n",
      "Epoch 82/1000\n",
      "47/47 [==============================] - 0s - loss: 1.2906 - val_loss: 1.7554\n",
      "Epoch 83/1000\n",
      "47/47 [==============================] - 0s - loss: 1.2849 - val_loss: 1.7650\n",
      "Epoch 84/1000\n",
      "47/47 [==============================] - 0s - loss: 1.2817 - val_loss: 1.7448\n",
      "Epoch 85/1000\n",
      "47/47 [==============================] - 0s - loss: 1.2764 - val_loss: 1.7409\n",
      "Epoch 86/1000\n",
      "47/47 [==============================] - 0s - loss: 1.2659 - val_loss: 1.7462\n",
      "Epoch 87/1000\n",
      "47/47 [==============================] - 0s - loss: 1.2612 - val_loss: 1.7305\n",
      "Epoch 88/1000\n",
      "47/47 [==============================] - 0s - loss: 1.2529 - val_loss: 1.7312\n",
      "Epoch 89/1000\n",
      "47/47 [==============================] - 0s - loss: 1.2468 - val_loss: 1.7240\n",
      "Epoch 90/1000\n",
      "47/47 [==============================] - 0s - loss: 1.2406 - val_loss: 1.7221\n",
      "Epoch 91/1000\n",
      "47/47 [==============================] - 0s - loss: 1.2353 - val_loss: 1.7143\n",
      "Epoch 92/1000\n",
      "47/47 [==============================] - 0s - loss: 1.2300 - val_loss: 1.7228\n",
      "Epoch 93/1000\n",
      "47/47 [==============================] - 0s - loss: 1.2292 - val_loss: 1.7168\n",
      "Epoch 94/1000\n",
      "47/47 [==============================] - 0s - loss: 1.2196 - val_loss: 1.7024\n",
      "Epoch 95/1000\n",
      "47/47 [==============================] - 0s - loss: 1.2116 - val_loss: 1.7097\n",
      "Epoch 96/1000\n",
      "47/47 [==============================] - 0s - loss: 1.2117 - val_loss: 1.6975\n",
      "Epoch 97/1000\n",
      "47/47 [==============================] - 0s - loss: 1.1985 - val_loss: 1.6890\n",
      "Epoch 98/1000\n",
      "47/47 [==============================] - 0s - loss: 1.1920 - val_loss: 1.6843\n",
      "Epoch 99/1000\n",
      "47/47 [==============================] - 0s - loss: 1.1862 - val_loss: 1.6865\n",
      "Epoch 100/1000\n",
      "47/47 [==============================] - 0s - loss: 1.1817 - val_loss: 1.6807\n",
      "Epoch 101/1000\n",
      "47/47 [==============================] - 0s - loss: 1.1734 - val_loss: 1.6727\n",
      "Epoch 102/1000\n",
      "47/47 [==============================] - 0s - loss: 1.1694 - val_loss: 1.6731\n",
      "Epoch 103/1000\n",
      "47/47 [==============================] - 0s - loss: 1.1626 - val_loss: 1.6701\n",
      "Epoch 104/1000\n",
      "47/47 [==============================] - 0s - loss: 1.1563 - val_loss: 1.6621\n",
      "Epoch 105/1000\n",
      "47/47 [==============================] - 0s - loss: 1.1501 - val_loss: 1.6567\n",
      "Epoch 106/1000\n",
      "47/47 [==============================] - 0s - loss: 1.1451 - val_loss: 1.6569\n",
      "Epoch 107/1000\n",
      "47/47 [==============================] - 0s - loss: 1.1417 - val_loss: 1.6471\n",
      "Epoch 108/1000\n",
      "47/47 [==============================] - 0s - loss: 1.1336 - val_loss: 1.6434\n",
      "Epoch 109/1000\n",
      "47/47 [==============================] - 0s - loss: 1.1299 - val_loss: 1.6412\n",
      "Epoch 110/1000\n",
      "47/47 [==============================] - 0s - loss: 1.1253 - val_loss: 1.6381\n",
      "Epoch 111/1000\n",
      "47/47 [==============================] - 0s - loss: 1.1224 - val_loss: 1.6332\n",
      "Epoch 112/1000\n",
      "47/47 [==============================] - 0s - loss: 1.1145 - val_loss: 1.6273\n",
      "Epoch 113/1000\n",
      "47/47 [==============================] - 0s - loss: 1.1086 - val_loss: 1.6275\n",
      "Epoch 114/1000\n",
      "47/47 [==============================] - 0s - loss: 1.1042 - val_loss: 1.6233\n",
      "Epoch 115/1000\n",
      "47/47 [==============================] - 0s - loss: 1.1026 - val_loss: 1.6290\n",
      "Epoch 116/1000\n",
      "47/47 [==============================] - 0s - loss: 1.1016 - val_loss: 1.6220\n",
      "Epoch 117/1000\n",
      "47/47 [==============================] - 0s - loss: 1.0985 - val_loss: 1.6299\n",
      "Epoch 118/1000\n",
      "47/47 [==============================] - 0s - loss: 1.1111 - val_loss: 1.6115\n",
      "Epoch 119/1000\n",
      "47/47 [==============================] - 0s - loss: 1.0905 - val_loss: 1.6203\n",
      "Epoch 120/1000\n",
      "47/47 [==============================] - 0s - loss: 1.0979 - val_loss: 1.6064\n",
      "Epoch 121/1000\n",
      "47/47 [==============================] - 0s - loss: 1.0899 - val_loss: 1.6159\n",
      "Epoch 122/1000\n",
      "47/47 [==============================] - 0s - loss: 1.0836 - val_loss: 1.6098\n",
      "Epoch 123/1000\n",
      "47/47 [==============================] - 0s - loss: 1.0805 - val_loss: 1.5977\n",
      "Epoch 124/1000\n",
      "47/47 [==============================] - 0s - loss: 1.0722 - val_loss: 1.5926\n",
      "Epoch 125/1000\n",
      "47/47 [==============================] - 0s - loss: 1.0659 - val_loss: 1.6042\n",
      "Epoch 126/1000\n",
      "47/47 [==============================] - 0s - loss: 1.0668 - val_loss: 1.5963\n",
      "Epoch 127/1000\n",
      "47/47 [==============================] - 0s - loss: 1.0579 - val_loss: 1.5911\n",
      "Epoch 128/1000\n",
      "47/47 [==============================] - 0s - loss: 1.0547 - val_loss: 1.5935\n",
      "Epoch 129/1000\n",
      "47/47 [==============================] - 0s - loss: 1.0530 - val_loss: 1.5971\n",
      "Epoch 130/1000\n",
      "47/47 [==============================] - 0s - loss: 1.0504 - val_loss: 1.5891\n",
      "Epoch 131/1000\n",
      "47/47 [==============================] - 0s - loss: 1.0487 - val_loss: 1.5853\n",
      "Epoch 132/1000\n",
      "47/47 [==============================] - 0s - loss: 1.0446 - val_loss: 1.5929\n",
      "Epoch 133/1000\n",
      "47/47 [==============================] - 0s - loss: 1.0408 - val_loss: 1.5870\n",
      "Epoch 134/1000\n",
      "47/47 [==============================] - 0s - loss: 1.0388 - val_loss: 1.5782\n",
      "Epoch 135/1000\n",
      "47/47 [==============================] - 0s - loss: 1.0331 - val_loss: 1.5828\n",
      "Epoch 136/1000\n",
      "47/47 [==============================] - 0s - loss: 1.0303 - val_loss: 1.5786\n",
      "Epoch 137/1000\n",
      "47/47 [==============================] - 0s - loss: 1.0305 - val_loss: 1.5778\n",
      "Epoch 138/1000\n",
      "47/47 [==============================] - 0s - loss: 1.0291 - val_loss: 1.5752\n",
      "Epoch 139/1000\n",
      "47/47 [==============================] - 0s - loss: 1.0285 - val_loss: 1.5800\n",
      "Epoch 140/1000\n",
      "47/47 [==============================] - 0s - loss: 1.0245 - val_loss: 1.5756\n",
      "Epoch 141/1000\n",
      "47/47 [==============================] - 0s - loss: 1.0249 - val_loss: 1.5695\n",
      "Epoch 142/1000\n",
      "47/47 [==============================] - 0s - loss: 1.0135 - val_loss: 1.5795\n",
      "Epoch 143/1000\n",
      "47/47 [==============================] - 0s - loss: 1.0181 - val_loss: 1.5797\n",
      "Epoch 144/1000\n",
      "47/47 [==============================] - 0s - loss: 1.0256 - val_loss: 1.5704\n",
      "Epoch 145/1000\n",
      "47/47 [==============================] - 0s - loss: 1.0109 - val_loss: 1.5740\n",
      "Epoch 146/1000\n",
      "47/47 [==============================] - 0s - loss: 1.0122 - val_loss: 1.5694\n",
      "Epoch 147/1000\n",
      "47/47 [==============================] - 0s - loss: 1.0064 - val_loss: 1.5643\n",
      "Epoch 148/1000\n",
      "47/47 [==============================] - 0s - loss: 1.0037 - val_loss: 1.5624\n",
      "Epoch 149/1000\n",
      "47/47 [==============================] - 0s - loss: 1.0016 - val_loss: 1.5729\n",
      "Epoch 150/1000\n",
      "47/47 [==============================] - 0s - loss: 1.0050 - val_loss: 1.5601\n",
      "Epoch 151/1000\n",
      "47/47 [==============================] - 0s - loss: 0.9997 - val_loss: 1.5578\n",
      "Epoch 152/1000\n",
      "47/47 [==============================] - 0s - loss: 0.9940 - val_loss: 1.5750\n",
      "Epoch 153/1000\n",
      "47/47 [==============================] - 0s - loss: 1.0015 - val_loss: 1.5566\n",
      "Epoch 154/1000\n",
      "47/47 [==============================] - 0s - loss: 0.9964 - val_loss: 1.5573\n",
      "Epoch 155/1000\n",
      "47/47 [==============================] - 0s - loss: 0.9898 - val_loss: 1.5735\n",
      "Epoch 156/1000\n",
      "47/47 [==============================] - 0s - loss: 0.9939 - val_loss: 1.5532\n",
      "Epoch 157/1000\n",
      "47/47 [==============================] - 0s - loss: 0.9819 - val_loss: 1.5651\n",
      "Epoch 158/1000\n",
      "47/47 [==============================] - 0s - loss: 0.9884 - val_loss: 1.5514\n",
      "Epoch 159/1000\n",
      "47/47 [==============================] - 0s - loss: 0.9835 - val_loss: 1.5546\n",
      "Epoch 160/1000\n",
      "47/47 [==============================] - 0s - loss: 0.9774 - val_loss: 1.5498\n",
      "Epoch 161/1000\n",
      "47/47 [==============================] - 0s - loss: 0.9730 - val_loss: 1.5460\n",
      "Epoch 162/1000\n",
      "47/47 [==============================] - 0s - loss: 0.9679 - val_loss: 1.5460\n",
      "Epoch 163/1000\n",
      "47/47 [==============================] - 0s - loss: 0.9653 - val_loss: 1.5466\n",
      "Epoch 164/1000\n",
      "47/47 [==============================] - 0s - loss: 0.9635 - val_loss: 1.5480\n",
      "Epoch 165/1000\n",
      "47/47 [==============================] - 0s - loss: 0.9626 - val_loss: 1.5450\n",
      "Epoch 166/1000\n",
      "47/47 [==============================] - 0s - loss: 0.9591 - val_loss: 1.5489\n",
      "Epoch 167/1000\n",
      "47/47 [==============================] - 0s - loss: 0.9623 - val_loss: 1.5489\n",
      "Epoch 168/1000\n",
      "47/47 [==============================] - 0s - loss: 0.9634 - val_loss: 1.5673\n",
      "Epoch 169/1000\n",
      "47/47 [==============================] - 0s - loss: 0.9694 - val_loss: 1.5429\n",
      "Epoch 170/1000\n",
      "47/47 [==============================] - 0s - loss: 0.9566 - val_loss: 1.5439\n",
      "Epoch 171/1000\n",
      "47/47 [==============================] - 0s - loss: 0.9581 - val_loss: 1.5528\n",
      "Epoch 172/1000\n",
      "47/47 [==============================] - 0s - loss: 0.9670 - val_loss: 1.5453\n",
      "Epoch 173/1000\n",
      "47/47 [==============================] - 0s - loss: 0.9613 - val_loss: 1.5435\n",
      "Epoch 174/1000\n",
      "47/47 [==============================] - 0s - loss: 0.9535 - val_loss: 1.5474\n",
      "Epoch 175/1000\n",
      "47/47 [==============================] - 0s - loss: 0.9518 - val_loss: 1.5390\n",
      "Epoch 176/1000\n",
      "47/47 [==============================] - 0s - loss: 0.9509 - val_loss: 1.5493\n",
      "Epoch 177/1000\n",
      "47/47 [==============================] - 0s - loss: 0.9487 - val_loss: 1.5400\n",
      "Epoch 178/1000\n",
      "47/47 [==============================] - 0s - loss: 0.9421 - val_loss: 1.5358\n",
      "Epoch 179/1000\n",
      "47/47 [==============================] - 0s - loss: 0.9376 - val_loss: 1.5405\n",
      "Epoch 180/1000\n",
      "47/47 [==============================] - 0s - loss: 0.9344 - val_loss: 1.5404\n",
      "Epoch 181/1000\n",
      "47/47 [==============================] - 0s - loss: 0.9330 - val_loss: 1.5370\n",
      "Epoch 182/1000\n",
      "47/47 [==============================] - 0s - loss: 0.9290 - val_loss: 1.5391\n",
      "Epoch 183/1000\n",
      "47/47 [==============================] - 0s - loss: 0.9280 - val_loss: 1.5368\n",
      "Epoch 184/1000\n",
      "47/47 [==============================] - 0s - loss: 0.9310 - val_loss: 1.5413\n",
      "Epoch 185/1000\n",
      "47/47 [==============================] - 0s - loss: 0.9304 - val_loss: 1.5405\n",
      "Epoch 186/1000\n",
      "47/47 [==============================] - 0s - loss: 0.9301 - val_loss: 1.5431\n",
      "Epoch 187/1000\n",
      "47/47 [==============================] - 0s - loss: 0.9360 - val_loss: 1.5310\n",
      "Epoch 188/1000\n",
      "47/47 [==============================] - 0s - loss: 0.9227 - val_loss: 1.5456\n",
      "Epoch 189/1000\n",
      "47/47 [==============================] - 0s - loss: 0.9252 - val_loss: 1.5394\n",
      "Epoch 190/1000\n",
      "47/47 [==============================] - 0s - loss: 0.9217 - val_loss: 1.5382\n",
      "Epoch 191/1000\n",
      "47/47 [==============================] - 0s - loss: 0.9174 - val_loss: 1.5335\n",
      "Epoch 192/1000\n",
      "47/47 [==============================] - 0s - loss: 0.9131 - val_loss: 1.5329\n",
      "Epoch 193/1000\n",
      "47/47 [==============================] - 0s - loss: 0.9137 - val_loss: 1.5305\n",
      "Epoch 194/1000\n",
      "47/47 [==============================] - 0s - loss: 0.9080 - val_loss: 1.5329\n",
      "Epoch 195/1000\n",
      "47/47 [==============================] - 0s - loss: 0.9064 - val_loss: 1.5343\n",
      "Epoch 196/1000\n",
      "47/47 [==============================] - 0s - loss: 0.9055 - val_loss: 1.5312\n",
      "Epoch 197/1000\n",
      "47/47 [==============================] - 0s - loss: 0.9035 - val_loss: 1.5326\n",
      "Epoch 198/1000\n",
      "47/47 [==============================] - 0s - loss: 0.9032 - val_loss: 1.5400\n",
      "Epoch 199/1000\n",
      "47/47 [==============================] - 0s - loss: 0.9010 - val_loss: 1.5462\n",
      "Epoch 200/1000\n",
      "47/47 [==============================] - 0s - loss: 0.9118 - val_loss: 1.5645\n",
      "Epoch 201/1000\n",
      "47/47 [==============================] - 0s - loss: 0.9190 - val_loss: 1.5562\n",
      "Epoch 202/1000\n",
      "47/47 [==============================] - 0s - loss: 0.9138 - val_loss: 1.5304\n",
      "Epoch 203/1000\n",
      "47/47 [==============================] - 0s - loss: 0.8977 - val_loss: 1.5313\n",
      "Epoch 204/1000\n",
      "47/47 [==============================] - 0s - loss: 0.8979 - val_loss: 1.5349\n",
      "Epoch 205/1000\n",
      "47/47 [==============================] - 0s - loss: 0.8938 - val_loss: 1.5326\n",
      "Epoch 206/1000\n",
      "47/47 [==============================] - 0s - loss: 0.8913 - val_loss: 1.5290\n",
      "Epoch 207/1000\n",
      "47/47 [==============================] - 0s - loss: 0.8886 - val_loss: 1.5322\n",
      "Epoch 208/1000\n",
      "47/47 [==============================] - 0s - loss: 0.8884 - val_loss: 1.5295\n",
      "Epoch 209/1000\n",
      "47/47 [==============================] - 0s - loss: 0.8832 - val_loss: 1.5319\n",
      "Epoch 210/1000\n",
      "47/47 [==============================] - 0s - loss: 0.8834 - val_loss: 1.5331\n",
      "Epoch 211/1000\n",
      "47/47 [==============================] - 0s - loss: 0.8799 - val_loss: 1.5301\n",
      "Epoch 212/1000\n",
      "47/47 [==============================] - 0s - loss: 0.8809 - val_loss: 1.5311\n",
      "Epoch 213/1000\n",
      "47/47 [==============================] - 0s - loss: 0.8787 - val_loss: 1.5301\n",
      "Epoch 214/1000\n",
      "47/47 [==============================] - 0s - loss: 0.8737 - val_loss: 1.5346\n",
      "Epoch 215/1000\n",
      "47/47 [==============================] - 0s - loss: 0.8772 - val_loss: 1.5325\n",
      "Epoch 216/1000\n",
      "47/47 [==============================] - 0s - loss: 0.8712 - val_loss: 1.5312\n",
      "Epoch 217/1000\n",
      "47/47 [==============================] - 0s - loss: 0.8688 - val_loss: 1.5331\n"
     ]
    },
    {
     "data": {
      "text/plain": [
       "<keras.callbacks.History at 0x1e4886c3080>"
      ]
     },
     "execution_count": 48,
     "metadata": {},
     "output_type": "execute_result"
    }
   ],
   "source": [
    "encoder_decoder.fit(\n",
    "    x          = [source_pp, target_pp],\n",
    "    y          = np.eye(trg_vocab_size)[trg_end_padding],\n",
    "    batch_size = 16,\n",
    "    epochs     = 1000,\n",
    "    validation_split=0.2,\n",
    "    callbacks=[EarlyStopping(patience=10)],\n",
    ")"
   ]
  },
  {
   "cell_type": "markdown",
   "metadata": {},
   "source": [
    "## Investigations"
   ]
  },
  {
   "cell_type": "code",
   "execution_count": 49,
   "metadata": {
    "collapsed": true
   },
   "outputs": [],
   "source": [
    "import matplotlib.pyplot as plt\n",
    "import numpy as np\n",
    "\n",
    "% matplotlib inline"
   ]
  },
  {
   "cell_type": "markdown",
   "metadata": {},
   "source": [
    "#### Visualising the alignments"
   ]
  },
  {
   "cell_type": "code",
   "execution_count": 77,
   "metadata": {},
   "outputs": [
    {
     "ename": "IndexError",
     "evalue": "only integers, slices (`:`), ellipsis (`...`), numpy.newaxis (`None`) and integer or boolean arrays are valid indices",
     "output_type": "error",
     "traceback": [
      "\u001b[0;31m---------------------------------------------------------------------------\u001b[0m",
      "\u001b[0;31mIndexError\u001b[0m                                Traceback (most recent call last)",
      "\u001b[0;32m<ipython-input-77-51f68f9241f0>\u001b[0m in \u001b[0;36m<module>\u001b[0;34m()\u001b[0m\n\u001b[1;32m     17\u001b[0m \u001b[1;31m# print(alphas[0].flatten())\u001b[0m\u001b[1;33m\u001b[0m\u001b[1;33m\u001b[0m\u001b[0m\n\u001b[1;32m     18\u001b[0m \u001b[1;31m# print(encoder_decoder.predict([test_srcs[1:], test_trgs[1:]], verbose=0))\u001b[0m\u001b[1;33m\u001b[0m\u001b[1;33m\u001b[0m\u001b[0m\n\u001b[0;32m---> 19\u001b[0;31m \u001b[0mdecoder_model\u001b[0m\u001b[1;33m.\u001b[0m\u001b[0mpredict\u001b[0m\u001b[1;33m(\u001b[0m\u001b[0mnp\u001b[0m\u001b[1;33m.\u001b[0m\u001b[0marray\u001b[0m\u001b[1;33m(\u001b[0m\u001b[0mchar_array\u001b[0m\u001b[1;33m)\u001b[0m\u001b[1;33m[\u001b[0m\u001b[0mtest_srcs\u001b[0m\u001b[1;33m[\u001b[0m\u001b[0mi\u001b[0m\u001b[1;33m]\u001b[0m\u001b[1;33m]\u001b[0m\u001b[1;33m)\u001b[0m\u001b[1;33m\u001b[0m\u001b[0m\n\u001b[0m\u001b[1;32m     20\u001b[0m \u001b[1;31m# np.array(char_array)[np.concatenate([test_trgs[i][1:], np.array([0])])]\u001b[0m\u001b[1;33m\u001b[0m\u001b[1;33m\u001b[0m\u001b[0m\n",
      "\u001b[0;31mIndexError\u001b[0m: only integers, slices (`:`), ellipsis (`...`), numpy.newaxis (`None`) and integer or boolean arrays are valid indices"
     ]
    }
   ],
   "source": [
    "#test_srcs = source_pp[929:]\n",
    "#test_trgs = target_pp[929:]\n",
    "test_srcs = source_pp\n",
    "test_trgs = target_pp\n",
    "#test_srcs = source_pp[7666:]\n",
    "#test_trgs = target_pp[7666:]\n",
    "\n",
    "\n",
    "#test_srcs = np.array([[0,0,0,0,0,0,0,0,1,2]])\n",
    "#test_trgs = np.array([[0,0,0,0,0,0,0,0,0,2,1]])\n",
    "\n",
    "alphas = alignments_model.predict([\n",
    "    test_srcs,\n",
    "    test_trgs,\n",
    "])\n",
    "\n",
    "# print(encoder_decoder.predict([test_srcs[1:], test_trgs[1:]], verbose=0))\n",
    "decoder_model.predict(np.array(char_array)[test_srcs[i]])\n"
   ]
  },
  {
   "cell_type": "code",
   "execution_count": 51,
   "metadata": {
    "scrolled": false
   },
   "outputs": [
    {
     "name": "stdout",
     "output_type": "stream",
     "text": [
      "['<s>' '<s>' '<s>' '<s>' '<s>' '<s>' '<s>' '<s>' '<s>' '<s>' '<s>' '<s>'\n",
      " '<s>' '<s>' '<s>' '<s>' '<s>' '<s>' '<s>' '<s>' '<s>' '<s>' '<s>' '<s>'\n",
      " '<s>' '<s>' '<s>' '<s>' '<s>' '<s>' '몇' '장' '티' '켓' '필' '요' '하' '십' '니'\n",
      " '까']\n",
      "['<s>' '<s>' '<s>' '<s>' '<s>' '<s>' '<s>' '<s>' '<s>' '<s>' '<s>' '<s>'\n",
      " '<s>' '<s>' '<s>' '<s>' '<s>' '<s>' '<s>' '<s>' '<s>' '<s>' '<s>' '<s>'\n",
      " '<s>' '<s>' '<s>' '<s>' '<s>' '<s>' '<s>' '<s>' '몇' '장' '의' '티' '켓' '이'\n",
      " '필' '요' '하' '십' '니' '까' '<s>']\n"
     ]
    },
    {
     "data": {
      "text/plain": [
       "<matplotlib.figure.Figure at 0x1e489f59b70>"
      ]
     },
     "metadata": {},
     "output_type": "display_data"
    },
    {
     "data": {
      "image/png": "[encoded data removed]",
      "text/plain": [
       "<matplotlib.figure.Figure at 0x1e489f59ba8>"
      ]
     },
     "metadata": {},
     "output_type": "display_data"
    }
   ],
   "source": [
    "i = 1\n",
    "plt.gray()\n",
    "fig = plt.figure(figsize=(10, 10), dpi= 80)\n",
    "ax  = plt.subplot(111, aspect='equal')\n",
    "ax.scatter(\n",
    "    np.tile(np.arange(T_x), T_y),\n",
    "    np.tile(np.arange(T_y), (T_x,1)).T.reshape(T_y*T_x),\n",
    "    s=560,\n",
    "    marker='s',\n",
    "    c=(alphas[i].flatten())\n",
    ")\n",
    "ax.set_xticks(np.arange(T_x))\n",
    "ax.set_yticks(np.arange(T_y))\n",
    "ax.set_xticklabels(np.array(char_array)[test_srcs[i]])\n",
    "ax.set_yticklabels(np.array(char_array)[np.concatenate([test_trgs[i][1:], np.array([0])])])\n",
    "#ax.gray()\n",
    "print(np.array(char_array)[test_srcs[i]])\n",
    "print(np.array(char_array)[np.concatenate([test_trgs[i][1:], np.array([0])])])\n",
    "\n",
    "plt.grid()\n",
    "plt.show()\n"
   ]
  },
  {
   "cell_type": "code",
   "execution_count": 52,
   "metadata": {},
   "outputs": [],
   "source": [
    "#!jupyter nbconvert --to script encoder-decoder-attention.ipynb --output encoder-decoder-attention"
   ]
  },
  {
   "cell_type": "code",
   "execution_count": null,
   "metadata": {
    "collapsed": true
   },
   "outputs": [],
   "source": []
  }
 ],
 "metadata": {
  "anaconda-cloud": {},
  "kernelspec": {
   "display_name": "Python 3",
   "language": "python",
   "name": "python3"
  },
  "language_info": {
   "codemirror_mode": {
    "name": "ipython",
    "version": 3
   },
   "file_extension": ".py",
   "mimetype": "text/x-python",
   "name": "python",
   "nbconvert_exporter": "python",
   "pygments_lexer": "ipython3",
   "version": "3.5.3"
  }
 },
 "nbformat": 4,
 "nbformat_minor": 2
}
